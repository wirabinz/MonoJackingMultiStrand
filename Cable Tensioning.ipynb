{
 "cells": [
  {
   "cell_type": "markdown",
   "metadata": {},
   "source": [
    "## Cable Stay Tensioning Calculation"
   ]
  },
  {
   "cell_type": "code",
   "execution_count": 10,
   "metadata": {},
   "outputs": [],
   "source": [
    "from IPython.display import display, Markdown"
   ]
  },
  {
   "cell_type": "markdown",
   "metadata": {},
   "source": []
  },
  {
   "cell_type": "code",
   "execution_count": 39,
   "metadata": {},
   "outputs": [
    {
     "data": {
      "text/markdown": [
       "### Cable Data Input"
      ],
      "text/plain": [
       "<IPython.core.display.Markdown object>"
      ]
     },
     "metadata": {},
     "output_type": "display_data"
    },
    {
     "data": {
      "text/markdown": [
       " - Designated jacking force,  $Z_k$ is 1200 kN"
      ],
      "text/plain": [
       "<IPython.core.display.Markdown object>"
      ]
     },
     "metadata": {},
     "output_type": "display_data"
    },
    {
     "data": {
      "text/markdown": [
       "- Shortening of cable axis, obtained from bridge design model,  $\\xi_k$ is 60 mm."
      ],
      "text/plain": [
       "<IPython.core.display.Markdown object>"
      ]
     },
     "metadata": {},
     "output_type": "display_data"
    },
    {
     "data": {
      "text/markdown": [
       "- Cable shortening to force ratio, $K_0$ is 0.05 mm/kN."
      ],
      "text/plain": [
       "<IPython.core.display.Markdown object>"
      ]
     },
     "metadata": {},
     "output_type": "display_data"
    },
    {
     "data": {
      "text/markdown": [
       "- Cable modulus of elasticity, $E_u$ is 194000 MPa."
      ],
      "text/plain": [
       "<IPython.core.display.Markdown object>"
      ]
     },
     "metadata": {},
     "output_type": "display_data"
    },
    {
     "data": {
      "text/markdown": [
       "- Cable section area, $A_u$ is 150 $mm^2$."
      ],
      "text/plain": [
       "<IPython.core.display.Markdown object>"
      ]
     },
     "metadata": {},
     "output_type": "display_data"
    },
    {
     "data": {
      "text/markdown": [
       "- Number of strand , 12 strand."
      ],
      "text/plain": [
       "<IPython.core.display.Markdown object>"
      ]
     },
     "metadata": {},
     "output_type": "display_data"
    }
   ],
   "source": [
    "# Initial data\n",
    "\n",
    "Zk=1200  #kN\n",
    "dv=15.98  #mm\n",
    "theta=53.3 #degree\n",
    "lk = 60000 #mm\n",
    "Xik =60 #mm\n",
    "KO = Xik/Zk #mm/kN\n",
    "Eu = 194000 #MPa\n",
    "Au = 150 #mm^2\n",
    "nos = 12\n",
    "\n",
    "\n",
    "\n",
    "# Display the value of x_k using Markdown syntax\n",
    "display(Markdown(\"### Cable Data Input\"))\n",
    "display(Markdown(rf\" - Designated jacking force,  $Z_k$ is {Zk} kN\"))\n",
    "display(Markdown(rf\"- Shortening of cable axis, obtained from bridge design model,  $\\xi_k$ is {Xik} mm.\"))\n",
    "display(Markdown(rf\"- Cable shortening to force ratio, $K_0$ is {KO} mm/kN.\"))\n",
    "display(Markdown(rf\"- Cable modulus of elasticity, $E_u$ is {Eu} MPa.\"))\n",
    "display(Markdown(rf\"- Cable section area, $A_u$ is {Au} $mm^2$.\"))\n",
    "display(Markdown(rf\"- Number of strand , {nos} strand.\"))\n"
   ]
  },
  {
   "cell_type": "code",
   "execution_count": 53,
   "metadata": {},
   "outputs": [],
   "source": [
    "def force_drop(strand, strand_jacking_load,current_length,total_shortening, total_force):\n",
    "    strain_force_ratio=KO*Eu*Au/(current_length*1000)\n",
    "    strand_shortening=KO*strand_jacking_load/(1+(strand-1)*strain_force_ratio)\n",
    "    total_shortening=strand_shortening+total_shortening\n",
    "    current_length=current_length-total_shortening\n",
    "    total_force=strand_jacking_load/(1+(strand-1)*strain_force_ratio)+total_force\n",
    "\n",
    "    return strain_force_ratio, strand_shortening,total_shortening, current_length, total_force"
   ]
  },
  {
   "cell_type": "code",
   "execution_count": 51,
   "metadata": {},
   "outputs": [
    {
     "data": {
      "text/markdown": [
       "### First cycle of strand tensioning"
      ],
      "text/plain": [
       "<IPython.core.display.Markdown object>"
      ]
     },
     "metadata": {},
     "output_type": "display_data"
    },
    {
     "data": {
      "text/markdown": [
       " - Length of cable axis prior to tensioning of the i-th strand, $l_k,i = l_k - \\xi_{k,i-1}$"
      ],
      "text/plain": [
       "<IPython.core.display.Markdown object>"
      ]
     },
     "metadata": {},
     "output_type": "display_data"
    }
   ],
   "source": [
    "# Display the value of x_k using Markdown syntax\n",
    "display(Markdown(\"### First cycle of strand tensioning\"))\n",
    "display(Markdown(rf\" - Length of cable axis prior to tensioning of the i-th strand, $l_k,i = l_k - \\xi_{{k,i-1}}$\"))"
   ]
  },
  {
   "cell_type": "code",
   "execution_count": null,
   "metadata": {},
   "outputs": [],
   "source": []
  }
 ],
 "metadata": {
  "kernelspec": {
   "display_name": "base",
   "language": "python",
   "name": "python3"
  },
  "language_info": {
   "codemirror_mode": {
    "name": "ipython",
    "version": 3
   },
   "file_extension": ".py",
   "mimetype": "text/x-python",
   "name": "python",
   "nbconvert_exporter": "python",
   "pygments_lexer": "ipython3",
   "version": "3.11.5"
  }
 },
 "nbformat": 4,
 "nbformat_minor": 2
}
