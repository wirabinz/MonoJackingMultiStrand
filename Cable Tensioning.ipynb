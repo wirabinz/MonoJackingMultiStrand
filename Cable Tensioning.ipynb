{
 "cells": [
  {
   "cell_type": "markdown",
   "metadata": {},
   "source": [
    "## Cable Stay Tensioning Calculation"
   ]
  },
  {
   "cell_type": "code",
   "execution_count": 6,
   "metadata": {},
   "outputs": [],
   "source": [
    "from IPython.display import display, Markdown\n",
    "import matplotlib.pyplot as plt"
   ]
  },
  {
   "cell_type": "code",
   "execution_count": 7,
   "metadata": {},
   "outputs": [
    {
     "data": {
      "text/markdown": [
       "### Cable Data Input"
      ],
      "text/plain": [
       "<IPython.core.display.Markdown object>"
      ]
     },
     "metadata": {},
     "output_type": "display_data"
    },
    {
     "data": {
      "text/markdown": [
       " - Designated jacking force,  $Z_k$ is 1200 kN"
      ],
      "text/plain": [
       "<IPython.core.display.Markdown object>"
      ]
     },
     "metadata": {},
     "output_type": "display_data"
    },
    {
     "data": {
      "text/markdown": [
       "- Shortening of cable axis, obtained from bridge design model,  $\\xi_k$ is 60 mm."
      ],
      "text/plain": [
       "<IPython.core.display.Markdown object>"
      ]
     },
     "metadata": {},
     "output_type": "display_data"
    },
    {
     "data": {
      "text/markdown": [
       "- Cable shortening to force ratio, $K_0$ is 0.05 mm/kN."
      ],
      "text/plain": [
       "<IPython.core.display.Markdown object>"
      ]
     },
     "metadata": {},
     "output_type": "display_data"
    },
    {
     "data": {
      "text/markdown": [
       "- Cable modulus of elasticity, $E_u$ is 194000 MPa."
      ],
      "text/plain": [
       "<IPython.core.display.Markdown object>"
      ]
     },
     "metadata": {},
     "output_type": "display_data"
    },
    {
     "data": {
      "text/markdown": [
       "- Cable section area, $A_u$ is 150 $mm^2$."
      ],
      "text/plain": [
       "<IPython.core.display.Markdown object>"
      ]
     },
     "metadata": {},
     "output_type": "display_data"
    },
    {
     "data": {
      "text/markdown": [
       "- Number of strand , 12 strand."
      ],
      "text/plain": [
       "<IPython.core.display.Markdown object>"
      ]
     },
     "metadata": {},
     "output_type": "display_data"
    }
   ],
   "source": [
    "# Initial data\n",
    "\n",
    "Zk=1200  #kN\n",
    "dv=15.98  #mm\n",
    "theta=53.3 #degree\n",
    "lk = 60000 #mm\n",
    "Xik =60 #mm\n",
    "KO = Xik/Zk #mm/kN\n",
    "Eu = 194000 #MPa\n",
    "Au = 150 #mm^2\n",
    "nos = 12\n",
    "\n",
    "\n",
    "\n",
    "# Display the value of x_k using Markdown syntax\n",
    "display(Markdown(\"### Cable Data Input\"))\n",
    "display(Markdown(rf\" - Designated jacking force,  $Z_k$ is {Zk} kN\"))\n",
    "display(Markdown(rf\"- Shortening of cable axis, obtained from bridge design model,  $\\xi_k$ is {Xik} mm.\"))\n",
    "display(Markdown(rf\"- Cable shortening to force ratio, $K_0$ is {KO} mm/kN.\"))\n",
    "display(Markdown(rf\"- Cable modulus of elasticity, $E_u$ is {Eu} MPa.\"))\n",
    "display(Markdown(rf\"- Cable section area, $A_u$ is {Au} $mm^2$.\"))\n",
    "display(Markdown(rf\"- Number of strand , {nos} strand.\"))\n"
   ]
  },
  {
   "cell_type": "code",
   "execution_count": 96,
   "metadata": {},
   "outputs": [],
   "source": [
    "def force_drop(strand, strand_jacking_load,current_length,total_shortening, total_force):\n",
    "    current_length=lk-total_shortening\n",
    "    strain_force_ratio=KO*Eu*Au/(current_length*1000)\n",
    "    strand_shortening=KO*strand_jacking_load/(1+(strand-1)*strain_force_ratio)\n",
    "    total_shortening=strand_shortening+total_shortening\n",
    "    total_force=strand_jacking_load/(1+(strand-1)*strain_force_ratio)+total_force\n",
    "\n",
    "    return strain_force_ratio, strand_shortening,total_shortening, current_length, total_force\n",
    "\n",
    "def cycle_load_reading(final_shortening,total_shortening,strand_jacking_load):\n",
    "    strand_partial_shortening=final_shortening-total_shortening\n",
    "    drop_force=strand_partial_shortening*Eu*Au/(lk-total_shortening)/1000\n",
    "    reduced_force=strand_jacking_load-drop_force\n",
    "\n",
    "    return strand_partial_shortening, drop_force, reduced_force\n",
    "\n",
    "def perform_cycle_tension(strand_jacking_loads,current_length,total_shortening,total_force, initial_jacking_loads):\n",
    "\n",
    "    # Initialize lists to compile results\n",
    "\n",
    "    strain_force_ratio_list = []\n",
    "    strand_shortening_list = []\n",
    "    total_shortening_list = []\n",
    "    current_length_list = []\n",
    "    total_force_list = []\n",
    "\n",
    "    #Calculation of accumulated shortening and total force\n",
    "    for strand in range(1,len(strand_jacking_loads)+1):\n",
    "        # Access the jacking load for the current strand index\n",
    "        strand_jacking_load = strand_jacking_loads[strand - 1]\n",
    "    \n",
    "        # Perform force drop calculation for the current strand\n",
    "        strain_force_ratio, strand_shortening, total_shortening, current_length,    total_force = force_drop(\n",
    "            strand, strand_jacking_load, current_length, total_shortening,  total_force\n",
    "        )\n",
    "        \n",
    "        # Append results to lists\n",
    "        strain_force_ratio_list.append(strain_force_ratio)\n",
    "        strand_shortening_list.append(strand_shortening)\n",
    "        total_shortening_list.append(total_shortening)\n",
    "        current_length_list.append(current_length)\n",
    "        total_force_list.append(total_force)\n",
    "    \n",
    "    # print(len(total_shortening_list))\n",
    "    strand_partial_shortening_list = []\n",
    "    drop_force_list = []\n",
    "    reduced_force_list = []\n",
    "\n",
    "    #Colculating Drop Force and Residual Force\n",
    "    for strand in range(1,len(initial_jacking_loads)+1):\n",
    "        #Access the final shortening\n",
    "        final_shortening=total_shortening_list[-1]\n",
    "\n",
    "        #Access the total shortening list and strand jacking load \n",
    "        total_shortening=total_shortening_list[strand- 1]\n",
    "        strand_jacking_load=initial_jacking_loads[strand - 1]\n",
    "\n",
    "        strand_partial_shortening, drop_force, reduced_force = cycle_load_reading(final_shortening,total_shortening,strand_jacking_load) \n",
    "\n",
    "        #append result to List \n",
    "        strand_partial_shortening_list.append(strand_partial_shortening)\n",
    "        drop_force_list.append(drop_force)\n",
    "        reduced_force_list.append(reduced_force)\n",
    "\n",
    "    return drop_force_list, current_length_list, total_shortening_list, total_force_list,reduced_force_list\n",
    "\n",
    "def tensioning_simulation(cycle_number,strand_jacking_loads,current_length,total_shortening,total_force,initial_jacking_loads):\n",
    "\n",
    "    for i in range(cycle_number):\n",
    "        drop_force_list, current_length_list, total_shortening_list, total_force_list,reduced_force_list=perform_cycle_tension(strand_jacking_loads,current_length,total_shortening,total_force,initial_jacking_loads)\n",
    "\n",
    "        #Extracting previous tension result for the next tensioning cycle\n",
    "        strand_jacking_loads = drop_force_list\n",
    "        current_length=current_length_list[-1]\n",
    "        total_shortening=total_shortening_list[-1]\n",
    "        total_force=total_force_list[-1]\n",
    "\n",
    "    return reduced_force_list,drop_force_list,current_length_list, total_shortening_list\n",
    "\n",
    "\n",
    "\n",
    "    "
   ]
  },
  {
   "cell_type": "code",
   "execution_count": 97,
   "metadata": {},
   "outputs": [
    {
     "name": "stdout",
     "output_type": "stream",
     "text": [
      "[99.99324851468445, 99.9958939714905, 99.99764351491199, 99.99874673533347, 99.99939964468399, 99.99975330589346, 99.99992109876143, 99.99998484808931, 100.0, 100.0, 100.0, 100.0]\n",
      "[0.00675148531555324, 0.004106028509494107, 0.0023564850880103878, 0.0012532646665286051, 0.0006003553160081252, 0.00024669410653481455, 7.890123857299133e-05, 1.5151910693375659e-05, 0.0, 0.0, 0.0, 0.0]\n",
      "[59940.02425699717, 59940.01631688373, 59940.01086778591, 59940.00726408625, 59940.00499167928, 59940.00364682049, 59940.002918351274, 59940.00257273254, 59940.00244142207, 59940.002410212255, 59940.002410212255, 59940.002410212255]\n",
      "[59.98368311626896, 59.98913221408666, 59.99273591374953, 59.99500832072291, 59.99635317950424, 59.997081648726414, 59.99742726745571, 59.99755857793266, 59.99758978774585, 59.99758978774585, 59.99758978774585, 59.99758978774585]\n"
     ]
    }
   ],
   "source": [
    "# Calculate strand jacking load\n",
    "strand_tensioning = Zk / nos\n",
    "\n",
    "# Create a list of strand jacking loads\n",
    "initial_jacking_loads = [strand_tensioning] * nos\n",
    "strand_jacking_loads=initial_jacking_loads\n",
    "\n",
    "#initial input\n",
    "current_length=lk\n",
    "total_shortening=0\n",
    "total_force=0\n",
    "cycle_number = 4\n",
    "\n",
    "# drop_force_list, current_length_list, total_shortening_list, total_force_list,reduced_force_list= perform_cycle_tension(strand_jacking_loads,current_length,total_shortening,total_force)\n",
    "\n",
    "# print(current_length_list)\n",
    "# print(drop_force_list)\n",
    "# print(total_shortening_list)\n",
    "# print(total_force_list)\n",
    "# print(reduced_force_list)\n",
    "\n",
    "\n",
    "reduced_force_list,drop_force_list,current_length_list, total_shortening_list=tensioning_simulation(cycle_number,strand_jacking_loads,current_length,total_shortening,total_force, initial_jacking_loads)\n",
    "\n",
    "print(reduced_force_list)\n",
    "print(drop_force_list)\n",
    "print(current_length_list)\n",
    "print(total_shortening_list)\n",
    "\n",
    "\n"
   ]
  },
  {
   "cell_type": "code",
   "execution_count": 8,
   "metadata": {},
   "outputs": [
    {
     "data": {
      "text/markdown": [
       "### First cycle of strand tensioning"
      ],
      "text/plain": [
       "<IPython.core.display.Markdown object>"
      ]
     },
     "metadata": {},
     "output_type": "display_data"
    },
    {
     "data": {
      "text/markdown": [
       " - Length of cable axis prior to tensioning of the i-th strand, $l_k,i = l_k - \\xi_{k,i-1}$"
      ],
      "text/plain": [
       "<IPython.core.display.Markdown object>"
      ]
     },
     "metadata": {},
     "output_type": "display_data"
    },
    {
     "data": {
      "text/markdown": [
       " - Strain to force ratio, $\\eta_i = \\dfrac{K_0 \\cdot E_u \\cdot A_u}{l_{k,i}}$"
      ],
      "text/plain": [
       "<IPython.core.display.Markdown object>"
      ]
     },
     "metadata": {},
     "output_type": "display_data"
    }
   ],
   "source": [
    "# Display the value of x_k using Markdown syntax\n",
    "display(Markdown(\"### First cycle of strand tensioning\"))\n",
    "display(Markdown(rf\" - Length of cable axis prior to tensioning of the i-th strand, $l_k,i = l_k - \\xi_{{k,i-1}}$\"))\n",
    "display(Markdown(rf\" - Strain to force ratio, $\\eta_i = \\dfrac{{K_0 \\cdot E_u \\cdot A_u}}{{l_{{k,i}}}}$\"))\n",
    "\n"
   ]
  },
  {
   "cell_type": "code",
   "execution_count": 43,
   "metadata": {},
   "outputs": [
    {
     "name": "stdout",
     "output_type": "stream",
     "text": [
      "[100.0, 100.0, 100.0, 100.0, 100.0, 100.0, 100.0, 100.0, 100.0, 100.0, 100.0, 100.0]\n",
      "[60000, 59995.0, 59985.11838893409, 59970.46811537692, 59951.157079267454, 59927.288486339654, 59898.96116962162, 59866.26988176453, 59829.30556145686, 59788.155576751626, 59742.90394777046, 59693.631550938444]\n",
      "[0.02425, 0.024252021001750147, 0.024256016143304217, 0.02426194168104094, 0.024269756763429906, 0.024279423226893793, 0.024290905411192977, 0.024304169992110998, 0.024319185829516594, 0.024335923829129972, 0.02435435681653535, 0.024374459422164707]\n",
      "[5.0, 4.881611065907242, 4.768662491260054, 4.660762552300702, 4.557556818334081, 4.45872379022637, 4.363971139063059, 4.273032450575795, 4.185664397565001, 4.101644275939044, 4.020767850841517, 3.9428474681718613]\n",
      "[5.0, 9.881611065907242, 14.650273557167296, 19.311036109468, 23.86859292780208, 28.32731671802845, 32.69128785709151, 36.96432030766731, 41.149984705232306, 45.25162898117135, 49.272396832012866, 53.21524430018473]\n",
      "[100.0, 197.63222131814484, 293.0054711433459, 386.22072218935995, 477.37185855604156, 566.546334360569, 653.8257571418301, 739.286406153346, 822.999694104646, 905.0325796234268, 985.4479366402572, 1064.3048860036945]\n",
      "===============\n",
      "[48.21524430018473, 43.333633234277485, 38.56497074301743, 33.90420819071673, 29.34665137238265, 24.88792758215628, 20.52395644309322, 16.25092399251742, 12.065259594952423, 7.963615319013378, 3.9428474681718626, 0.0]\n",
      "[23.386342347451883, 21.020274021497567, 18.708578907011017, 16.448835039954535, 14.238790247075446, 12.076346385493435, 9.959545380983139, 7.886556823246601, 5.855666913617497, 3.8652685913916587, 1.9138526905508007, 0.0]\n",
      "[76.61365765254811, 78.97972597850243, 81.29142109298898, 83.55116496004547, 85.76120975292456, 87.92365361450656, 90.04045461901686, 92.11344317675339, 94.1443330863825, 96.13473140860835, 98.0861473094492, 100.0]\n"
     ]
    }
   ],
   "source": [
    "\n",
    "# Calculate strand jacking load\n",
    "strand_tensioning = Zk / nos\n",
    "\n",
    "# Create a list of strand jacking loads\n",
    "strand_jacking_loads = [strand_tensioning] * nos\n",
    "# Print the list of strand jacking loads\n",
    "# print(\"Strand Jacking Load List:\", strand_jacking_loads)\n",
    "\n",
    "#initial input\n",
    "current_length=lk\n",
    "total_shortening=0\n",
    "total_force=0\n",
    "\n",
    "# Initialize lists to compile results\n",
    "\n",
    "strain_force_ratio_list = []\n",
    "strand_shortening_list = []\n",
    "total_shortening_list = []\n",
    "current_length_list = []\n",
    "total_force_list = []\n",
    "\n",
    "#Calculation of accumulated shortening and total force\n",
    "for strand in range(1,nos+1):\n",
    "    # Access the jacking load for the current strand index\n",
    "    strand_jacking_load = strand_jacking_loads[strand - 1]\n",
    "\n",
    "\n",
    "    # Perform force drop calculation for the current strand\n",
    "    strain_force_ratio, strand_shortening, total_shortening, current_length, total_force = force_drop(\n",
    "        strand, strand_jacking_load, current_length, total_shortening, total_force\n",
    "    )\n",
    "    \n",
    "    # Append results to lists\n",
    "    strain_force_ratio_list.append(strain_force_ratio)\n",
    "    strand_shortening_list.append(strand_shortening)\n",
    "    total_shortening_list.append(total_shortening)\n",
    "    current_length_list.append(current_length)\n",
    "    total_force_list.append(total_force)\n",
    "\n",
    "print(strand_jacking_loads)\n",
    "print(current_length_list)\n",
    "print(strain_force_ratio_list)\n",
    "print(strand_shortening_list)\n",
    "print(total_shortening_list)\n",
    "print(total_force_list)\n",
    "\n",
    "\n",
    "\n",
    "strand_partial_shortening_list = []\n",
    "drop_force_list = []\n",
    "reduced_force_list = []\n",
    "\n",
    "#Colculating Drop Force and Residual Force\n",
    "for strand in range(1,nos+1):\n",
    "    #Access the final shortening\n",
    "    final_shortening=total_shortening_list[nos-1]\n",
    "\n",
    "    #Access the total shortening list and strand jacking load \n",
    "    total_shortening=total_shortening_list[strand - 1]\n",
    "    strand_jacking_load=strand_jacking_loads[strand - 1]\n",
    "\n",
    "    strand_partial_shortening, drop_force, reduced_force = cycle_load_reading(final_shortening,total_shortening,strand_jacking_load) \n",
    "\n",
    "    #append result to List \n",
    "    strand_partial_shortening_list.append(strand_partial_shortening)\n",
    "    drop_force_list.append(drop_force)\n",
    "    reduced_force_list.append(reduced_force)\n",
    "\n",
    "print(\"===============\")\n",
    "print(strand_partial_shortening_list)\n",
    "print(drop_force_list)\n",
    "print(reduced_force_list)\n",
    "\n",
    "\n",
    "# # Iterate over each element in the list and format them individually\n",
    "# formatted_strand_jacking_loads = [f\"{value:.2f}\" for value in strand_jacking_loads]\n",
    "# formatted_current_length_list = [f\"{value:.2f}\" for value in current_length_list]\n",
    "# formatted_strain_force_ratio_list = [f\"{value:.2f}\" for value in strain_force_ratio_list]\n",
    "# formatted_strand_shortening_list = [f\"{value:.2f}\" for value in strand_shortening_list]\n",
    "# formatted_total_shortening_list = [f\"{value:.2f}\" for value in total_shortening_list]\n",
    "# formatted_total_force_list = [f\"{value:.2f}\" for value in total_force_list]\n",
    "\n",
    "# # Print the formatted lists\n",
    "# print(\"Formatted Strand Jacking Loads:\", formatted_strand_jacking_loads)\n",
    "# print(\"Formatted Current Length List:\", formatted_current_length_list)\n",
    "# print(\"Formatted Strain Force Ratio List:\", formatted_strain_force_ratio_list)\n",
    "# print(\"Formatted Strand Shortening List:\", formatted_strand_shortening_list)\n",
    "# print(\"Formatted Total Shortening List:\", formatted_total_shortening_list)\n",
    "# print(\"Formatted Total Force List:\", formatted_total_force_list)"
   ]
  },
  {
   "cell_type": "code",
   "execution_count": 6,
   "metadata": {},
   "outputs": [
    {
     "data": {
      "image/png": "[encoded data removed]",
      "text/plain": [
       "<Figure size 400x300 with 1 Axes>"
      ]
     },
     "metadata": {},
     "output_type": "display_data"
    }
   ],
   "source": [
    "# Generate x-axis values (strand numbers)\n",
    "strand_numbers = list(range(1, len(reduced_force_list) + 1))\n",
    "\n",
    "# Set the style to a dark theme\n",
    "# plt.style.use('dark_background')\n",
    "plt.style.use('default')\n",
    "\n",
    "# Set the desired figure size\n",
    "plt.figure(figsize=(4, 3))  # Adjust width and height as needed\n",
    "\n",
    "# Create bar chart\n",
    "plt.bar(strand_numbers, reduced_force_list, label='Reduced Force', color='blue')\n",
    "plt.bar(strand_numbers, strand_jacking_loads, label='Strand Jacking Load', color='red', alpha=0.5)\n",
    "\n",
    "# Add labels and title\n",
    "plt.xlabel('Strand Number')\n",
    "plt.ylabel('Force (kN)')\n",
    "plt.title('First Cycle Jacking ')\n",
    "plt.legend(bbox_to_anchor=(1.05, 0.5), loc='center left')\n",
    "\n",
    "# Set tick positions and labels for x-axis\n",
    "plt.xticks(strand_numbers, strand_numbers)\n",
    "\n",
    "# Show plot\n",
    "\n",
    "plt.show()"
   ]
  }
 ],
 "metadata": {
  "kernelspec": {
   "display_name": "base",
   "language": "python",
   "name": "python3"
  },
  "language_info": {
   "codemirror_mode": {
    "name": "ipython",
    "version": 3
   },
   "file_extension": ".py",
   "mimetype": "text/x-python",
   "name": "python",
   "nbconvert_exporter": "python",
   "pygments_lexer": "ipython3",
   "version": "3.9.12"
  }
 },
 "nbformat": 4,
 "nbformat_minor": 2
}
