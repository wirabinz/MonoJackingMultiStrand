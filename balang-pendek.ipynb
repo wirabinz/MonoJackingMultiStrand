{
 "cells": [
  {
   "cell_type": "markdown",
   "metadata": {},
   "source": [
    "## Cable Stay Tensioning Calculation"
   ]
  },
  {
   "cell_type": "code",
   "execution_count": 2,
   "metadata": {},
   "outputs": [],
   "source": [
    "from IPython.display import display, Markdown\n",
    "import matplotlib.pyplot as plt"
   ]
  },
  {
   "cell_type": "code",
   "execution_count": 3,
   "metadata": {},
   "outputs": [
    {
     "data": {
      "text/markdown": [
       "### Cable Data Input"
      ],
      "text/plain": [
       "<IPython.core.display.Markdown object>"
      ]
     },
     "metadata": {},
     "output_type": "display_data"
    },
    {
     "data": {
      "text/markdown": [
       " - Designated jacking force,  $Z_k$ is 1061 kN"
      ],
      "text/plain": [
       "<IPython.core.display.Markdown object>"
      ]
     },
     "metadata": {},
     "output_type": "display_data"
    },
    {
     "data": {
      "text/markdown": [
       "- Shortening of cable axis, obtained from bridge design model,  $\\xi_k$ is 45.303 mm."
      ],
      "text/plain": [
       "<IPython.core.display.Markdown object>"
      ]
     },
     "metadata": {},
     "output_type": "display_data"
    },
    {
     "data": {
      "text/markdown": [
       "- Cable shortening to force ratio, $K_0$ is 0.042698397737983035 mm/kN."
      ],
      "text/plain": [
       "<IPython.core.display.Markdown object>"
      ]
     },
     "metadata": {},
     "output_type": "display_data"
    },
    {
     "data": {
      "text/markdown": [
       "- Cable modulus of elasticity, $E_u$ is 195000 MPa."
      ],
      "text/plain": [
       "<IPython.core.display.Markdown object>"
      ]
     },
     "metadata": {},
     "output_type": "display_data"
    },
    {
     "data": {
      "text/markdown": [
       "- Cable section area, $A_u$ is 140 $mm^2$."
      ],
      "text/plain": [
       "<IPython.core.display.Markdown object>"
      ]
     },
     "metadata": {},
     "output_type": "display_data"
    },
    {
     "data": {
      "text/markdown": [
       "- Number of strand , 12 strand."
      ],
      "text/plain": [
       "<IPython.core.display.Markdown object>"
      ]
     },
     "metadata": {},
     "output_type": "display_data"
    }
   ],
   "source": [
    "# Initial data\n",
    "\n",
    "Zk=1061  #kN\n",
    "dv=15.9796  #mm\n",
    "theta=36.53 #degree\n",
    "lk = 51300.47 #mm\n",
    "Xik =45.303 #mm\n",
    "KO = Xik/Zk #mm/kN\n",
    "Eu = 195000 #MPa\n",
    "Au = 140 #mm^2\n",
    "nos = 12\n",
    "\n",
    "\n",
    "\n",
    "# Display the value of x_k using Markdown syntax\n",
    "display(Markdown(\"### Cable Data Input\"))\n",
    "display(Markdown(rf\" - Designated jacking force,  $Z_k$ is {Zk} kN\"))\n",
    "display(Markdown(rf\"- Shortening of cable axis, obtained from bridge design model,  $\\xi_k$ is {Xik} mm.\"))\n",
    "display(Markdown(rf\"- Cable shortening to force ratio, $K_0$ is {KO} mm/kN.\"))\n",
    "display(Markdown(rf\"- Cable modulus of elasticity, $E_u$ is {Eu} MPa.\"))\n",
    "display(Markdown(rf\"- Cable section area, $A_u$ is {Au} $mm^2$.\"))\n",
    "display(Markdown(rf\"- Number of strand , {nos} strand.\"))\n"
   ]
  },
  {
   "cell_type": "code",
   "execution_count": 4,
   "metadata": {},
   "outputs": [],
   "source": [
    "def force_drop(strand, strand_jacking_load,current_length,total_shortening, total_force):\n",
    "    current_length=lk-total_shortening\n",
    "    strain_force_ratio=KO*Eu*Au/(current_length*1000)\n",
    "    strand_shortening=KO*strand_jacking_load/(1+(strand-1)*strain_force_ratio)\n",
    "    total_shortening=strand_shortening+total_shortening\n",
    "    total_force=strand_jacking_load/(1+(strand-1)*strain_force_ratio)+total_force\n",
    "\n",
    "    return strain_force_ratio, strand_shortening,total_shortening, current_length, total_force\n",
    "\n",
    "def cycle_load_reading(final_shortening,total_shortening,strand_jacking_load):\n",
    "    strand_partial_shortening=final_shortening-total_shortening\n",
    "    drop_force=strand_partial_shortening*Eu*Au/(lk-total_shortening)/1000\n",
    "    reduced_force=strand_jacking_load-drop_force\n",
    "\n",
    "    return strand_partial_shortening, drop_force, reduced_force\n",
    "\n",
    "def perform_cycle_tension(strand_jacking_loads,current_length,total_shortening,total_force, initial_jacking_loads):\n",
    "\n",
    "    # Initialize lists to compile results\n",
    "\n",
    "    strain_force_ratio_list = []\n",
    "    strand_shortening_list = []\n",
    "    total_shortening_list = []\n",
    "    current_length_list = []\n",
    "    total_force_list = []\n",
    "\n",
    "    #Calculation of accumulated shortening and total force\n",
    "    for strand in range(1,len(strand_jacking_loads)+1):\n",
    "        # Access the jacking load for the current strand index\n",
    "        strand_jacking_load = strand_jacking_loads[strand - 1]\n",
    "    \n",
    "        # Perform force drop calculation for the current strand\n",
    "        strain_force_ratio, strand_shortening, total_shortening, current_length,    total_force = force_drop(\n",
    "            strand, strand_jacking_load, current_length, total_shortening,  total_force\n",
    "        )\n",
    "        \n",
    "        # Append results to lists\n",
    "        strain_force_ratio_list.append(strain_force_ratio)\n",
    "        strand_shortening_list.append(strand_shortening)\n",
    "        total_shortening_list.append(total_shortening)\n",
    "        current_length_list.append(current_length)\n",
    "        total_force_list.append(total_force)\n",
    "    \n",
    "    # print(len(total_shortening_list))\n",
    "    strand_partial_shortening_list = []\n",
    "    drop_force_list = []\n",
    "    reduced_force_list = []\n",
    "\n",
    "    #Colculating Drop Force and Residual Force\n",
    "    for strand in range(1,len(initial_jacking_loads)+1):\n",
    "        #Access the final shortening\n",
    "        final_shortening=total_shortening_list[-1]\n",
    "\n",
    "        #Access the total shortening list and strand jacking load \n",
    "        total_shortening=total_shortening_list[strand- 1]\n",
    "        strand_jacking_load=initial_jacking_loads[strand - 1]\n",
    "\n",
    "        strand_partial_shortening, drop_force, reduced_force = cycle_load_reading(final_shortening,total_shortening,strand_jacking_load) \n",
    "\n",
    "        #append result to List \n",
    "        strand_partial_shortening_list.append(strand_partial_shortening)\n",
    "        drop_force_list.append(drop_force)\n",
    "        reduced_force_list.append(reduced_force)\n",
    "\n",
    "    return drop_force_list, current_length_list, total_shortening_list, total_force_list,reduced_force_list\n",
    "\n",
    "def tensioning_simulation(cycle_number,strand_jacking_loads,current_length,total_shortening,total_force,initial_jacking_loads):\n",
    "\n",
    "    accumulated_load_list=initial_jacking_loads.copy()\n",
    "    table_data=[]\n",
    "   \n",
    "    for i in range(cycle_number):\n",
    "        drop_force_list, current_length_list, total_shortening_list, total_force_list,reduced_force_list=perform_cycle_tension(strand_jacking_loads,current_length,total_shortening,total_force,initial_jacking_loads)\n",
    "\n",
    "        #Extracting previous tension result for the next tensioning cycle\n",
    "        strand_jacking_loads = drop_force_list\n",
    "        current_length=current_length_list[-1]\n",
    "        total_shortening=total_shortening_list[-1]\n",
    "        total_force=total_force_list[-1]\n",
    "\n",
    "        #Upddating accumulated load list\n",
    "        for j in range(len(accumulated_load_list)):\n",
    "            accumulated_load_list[j] += drop_force_list[j]\n",
    "\n",
    "        # Add data to the table\n",
    "        table_data.append([i+1] + reduced_force_list)\n",
    "\n",
    "    return reduced_force_list,drop_force_list,current_length_list, total_shortening_list,accumulated_load_list,table_data\n",
    "\n",
    "\n",
    "\n",
    "    "
   ]
  },
  {
   "cell_type": "markdown",
   "metadata": {},
   "source": [
    "#### Multi Cycle Iteration "
   ]
  },
  {
   "cell_type": "code",
   "execution_count": 5,
   "metadata": {},
   "outputs": [
    {
     "name": "stdout",
     "output_type": "stream",
     "text": [
      "[88.41192441146613, 88.41377482778206, 88.41500271685598, 88.41577950842256, 88.41624066516896, 88.41649121000984, 88.41661042359515, 88.41665584250167, 88.41666666666667, 88.41666666666667, 88.41666666666667, 88.41666666666667]\n",
      "[0.004742255200534093, 0.002891838884609537, 0.0016639498106976768, 0.0008871582441149136, 0.0004260014977127296, 0.00017545665683630992, 5.624307152036572e-05, 1.0824165009393622e-05, 0.0, 0.0, 0.0, 0.0]\n",
      "[51255.182453598056, 51255.17740908349, 51255.1739349653, 51255.17162962933, 51255.17017121958, 51255.169305407566, 51255.168835014956, 51255.168611193985, 51255.168525920955, 51255.16850559881, 51255.16850559881, 51255.16850559881]\n",
      "[45.29259091651081, 45.296065034701286, 45.29837037066803, 45.29982878042479, 45.30069459243509, 45.301164985047556, 45.30138880601662, 45.30147407904637, 45.30149440118563, 45.30149440118563, 45.30149440118563, 45.30149440118563]\n",
      "[110.02741098389048, 107.63685964767922, 105.34776223806702, 103.15379906870625, 101.04916245894532, 99.02850626520805, 97.0869012420283, 95.21979546370038, 93.4229791511749, 91.69255334394788, 90.02490193656604, 88.41666666666667]\n",
      "[88.41666666666667, 88.41666666666667, 88.41666666666667, 88.41666666666667, 88.41666666666667, 88.41666666666667, 88.41666666666667, 88.41666666666667, 88.41666666666667, 88.41666666666667, 88.41666666666667, 88.41666666666667]\n",
      "100.00%\n"
     ]
    },
    {
     "data": {
      "image/png": "[encoded data removed]",
      "text/plain": [
       "<Figure size 400x300 with 1 Axes>"
      ]
     },
     "metadata": {},
     "output_type": "display_data"
    }
   ],
   "source": [
    "# Calculate strand jacking load\n",
    "strand_tensioning = Zk / nos\n",
    "\n",
    "# Create a list of strand jacking loads\n",
    "initial_jacking_loads = [strand_tensioning] * nos\n",
    "strand_jacking_loads=initial_jacking_loads\n",
    "\n",
    "#initial input\n",
    "current_length=lk\n",
    "total_shortening=0\n",
    "total_force=0\n",
    "cycle_number = 4\n",
    "\n",
    "# drop_force_list, current_length_list, total_shortening_list, total_force_list,reduced_force_list= perform_cycle_tension(strand_jacking_loads,current_length,total_shortening,total_force)\n",
    "\n",
    "# print(current_length_list)\n",
    "# print(drop_force_list)\n",
    "# print(total_shortening_list)\n",
    "# print(total_force_list)\n",
    "# print(reduced_force_list)\n",
    "\n",
    "\n",
    "reduced_force_list,drop_force_list,current_length_list, total_shortening_list,accumulated_load_list,table_data=tensioning_simulation(cycle_number,strand_jacking_loads,current_length,total_shortening,total_force, initial_jacking_loads)\n",
    "\n",
    "print(reduced_force_list)\n",
    "print(drop_force_list)\n",
    "print(current_length_list)\n",
    "print(total_shortening_list)\n",
    "print(accumulated_load_list)\n",
    "print(initial_jacking_loads)\n",
    "\n",
    "# print(table_data)\n",
    "#Calculating Force Distribution Factor \n",
    "gamma_xi=total_shortening_list[-1]/Xik\n",
    "print(f\"{gamma_xi*100:.2f}%\")\n",
    "\n",
    "\n",
    "\n",
    "# #================ TABLE DATA ==================================\n",
    "# # Extracting data\n",
    "# column_labels = ['Strand'] + [f'Cycle {i}' for i in range(1, len(table_data[0]) + 1)]\n",
    "# row_labels = [entry[0] for entry in table_data]\n",
    "# cell_values = [entry[1:] for entry in table_data]\n",
    "\n",
    "# # Create table\n",
    "# plt.figure(figsize=(10, 6))\n",
    "# table = plt.table(cellText=cell_values, rowLabels=row_labels, colLabels=column_labels, loc='center')\n",
    "\n",
    "\n",
    "# # Formatting\n",
    "# table.auto_set_font_size(False)\n",
    "# table.set_fontsize(10)\n",
    "# table.scale(1.5, 1.5)\n",
    "\n",
    "# plt.axis('off')\n",
    "# plt.show()\n",
    "\n",
    "# ================ PLOTTING GRAPH ==============================\n",
    "\n",
    "# Generate x-axis values (strand numbers)\n",
    "strand_numbers = list(range(1, len(reduced_force_list) + 1))\n",
    "\n",
    "# Set the style to a dark theme\n",
    "# plt.style.use('dark_background')\n",
    "plt.style.use('default')\n",
    "\n",
    "# Set the desired figure size\n",
    "plt.figure(figsize=(4, 3))  # Adjust width and height as needed\n",
    "\n",
    "# Create bar chart\n",
    "plt.bar(strand_numbers, reduced_force_list, label='Reduced Force', color='blue', alpha=1)\n",
    "plt.bar(strand_numbers, initial_jacking_loads, label='Strand Jacking Load', color='red', alpha=0.5)\n",
    "\n",
    "# Add labels and title\n",
    "plt.xlabel('Strand Number')\n",
    "plt.ylabel('Force (kN)')\n",
    "plt.title('First Cycle Jacking ')\n",
    "plt.legend(bbox_to_anchor=(1.05, 0.5), loc='center left')\n",
    "\n",
    "# Set tick positions and labels for x-axis\n",
    "plt.xticks(strand_numbers, strand_numbers)\n",
    "\n",
    "# Show plot\n",
    "\n",
    "plt.show()\n"
   ]
  },
  {
   "cell_type": "markdown",
   "metadata": {},
   "source": [
    "### Single Cycle Trial"
   ]
  },
  {
   "cell_type": "code",
   "execution_count": 6,
   "metadata": {},
   "outputs": [
    {
     "name": "stdout",
     "output_type": "stream",
     "text": [
      "[88.41778414275103, 88.41718488311818, 88.41675211390537, 88.4164595159145, 88.41628271907247, 88.41619938063103, 88.41618921421859, 88.41623398125523, 88.41631745393282, 88.41642535709829, 88.41654529487748, 88.41666666666667]\n",
      "[21.609626841139452, 19.219674764561034, 16.931010124161638, 14.737339552791752, 12.632879739872852, 10.61230688457702, 8.67071202780971, 6.803561482445154, 5.006661697242082, 3.2761279868495827, 1.6083566416885582, 0.0]\n",
      "[51300.47, 51295.77200584373, 51291.27820341713, 51286.97558867725, 51282.85223716535, 51278.89719448391, 51275.10037980686, 51271.45250065348, 51267.94497742461, 51264.56987642437, 51261.31985027706, 51258.1880848061]\n",
      "[4.697994156270679, 9.191796582869758, 13.494411322751453, 17.61776283464791, 21.57280551609602, 25.369620193136917, 29.017499346518303, 32.52502257538888, 35.90012357563208, 39.150149722941364, 42.28191519390186, 45.30174842639707]\n",
      "[131.63703782502992, 126.85653441224025, 122.27877236222866, 117.891138621498, 113.68204219881817, 109.64081314978507, 105.75761326983802, 102.02335694614553, 98.42964084841698, 94.96868133079747, 91.6332585782546, 88.41666666666667]\n",
      "[110.02741098389048, 107.63685964767922, 105.34776223806702, 103.15379906870625, 101.04916245894532, 99.02850626520805, 97.0869012420283, 95.21979546370038, 93.4229791511749, 91.69255334394788, 90.02490193656604, 88.41666666666667]\n",
      "100.00%\n"
     ]
    },
    {
     "data": {
      "image/png": "[encoded data removed]",
      "text/plain": [
       "<Figure size 800x600 with 1 Axes>"
      ]
     },
     "metadata": {},
     "output_type": "display_data"
    }
   ],
   "source": [
    "# Calculate strand jacking load\n",
    "strand_tensioning = Zk / nos\n",
    "\n",
    "# Create a list of strand jacking loads\n",
    "initial_jacking_loads = accumulated_load_list\n",
    "strand_jacking_loads=initial_jacking_loads\n",
    "\n",
    "#initial input\n",
    "current_length=lk\n",
    "total_shortening=0\n",
    "total_force=0\n",
    "cycle_number = 1\n",
    "\n",
    "# drop_force_list, current_length_list, total_shortening_list, total_force_list,reduced_force_list= perform_cycle_tension(strand_jacking_loads,current_length,total_shortening,total_force)\n",
    "\n",
    "# print(current_length_list)\n",
    "# print(drop_force_list)\n",
    "# print(total_shortening_list)\n",
    "# print(total_force_list)\n",
    "# print(reduced_force_list)\n",
    "\n",
    "\n",
    "reduced_force_list,drop_force_list,current_length_list, total_shortening_list,accumulated_load_list,table_data=tensioning_simulation(cycle_number,strand_jacking_loads,current_length,total_shortening,total_force, initial_jacking_loads)\n",
    "\n",
    "print(reduced_force_list)\n",
    "print(drop_force_list)\n",
    "print(current_length_list)\n",
    "print(total_shortening_list)\n",
    "print(accumulated_load_list)\n",
    "print(initial_jacking_loads)\n",
    "\n",
    "#Calculating Force Distribution Factor \n",
    "gamma_xi=total_shortening_list[-1]/Xik\n",
    "print(f\"{gamma_xi*100:.2f}%\")\n",
    "\n",
    "# ================ PLOTTING GRAPH ==============================\n",
    "\n",
    "# Generate x-axis values (strand numbers)\n",
    "strand_numbers = list(range(1, len(reduced_force_list) + 1))\n",
    "\n",
    "# Set the style to a dark theme\n",
    "# plt.style.use('dark_background')\n",
    "plt.style.use('default')\n",
    "\n",
    "# Set the desired figure size\n",
    "plt.figure(figsize=(8, 6))  # Adjust width and height as needed\n",
    "\n",
    "# Create bar chart\n",
    "plt.bar(strand_numbers, reduced_force_list, label='Reduced Force', color='blue', alpha=1)\n",
    "plt.bar(strand_numbers, initial_jacking_loads, label='Strand Jacking Load', color='red', alpha=0.5)\n",
    "\n",
    "# Add labels and title\n",
    "plt.xlabel('Strand Number')\n",
    "plt.ylabel('Force (kN)')\n",
    "plt.title('Single Cycle Simulation ')\n",
    "plt.legend(bbox_to_anchor=(1.05, 0.5), loc='center left')\n",
    "\n",
    "# Set tick positions and labels for x-axis\n",
    "plt.xticks(strand_numbers, strand_numbers)\n",
    "\n",
    "# Display values on top of each bar\n",
    "for i in range(len(reduced_force_list)):\n",
    "    plt.text(strand_numbers[i], reduced_force_list[i], f'{reduced_force_list[i]:.2f}', ha='center', va='bottom')\n",
    "\n",
    "for i in range(len(initial_jacking_loads)):\n",
    "    plt.text(strand_numbers[i], initial_jacking_loads[i], f'{initial_jacking_loads[i]:.2f}', ha='center', va='bottom')\n",
    "\n",
    "\n",
    "\n",
    "# Show plot\n",
    "\n",
    "plt.show()\n"
   ]
  },
  {
   "cell_type": "code",
   "execution_count": 7,
   "metadata": {},
   "outputs": [
    {
     "data": {
      "text/markdown": [
       "### First cycle of strand tensioning"
      ],
      "text/plain": [
       "<IPython.core.display.Markdown object>"
      ]
     },
     "metadata": {},
     "output_type": "display_data"
    },
    {
     "data": {
      "text/markdown": [
       " - Length of cable axis prior to tensioning of the i-th strand, $l_k,i = l_k - \\xi_{k,i-1}$"
      ],
      "text/plain": [
       "<IPython.core.display.Markdown object>"
      ]
     },
     "metadata": {},
     "output_type": "display_data"
    },
    {
     "data": {
      "text/markdown": [
       " - Strain to force ratio, $\\eta_i = \\dfrac{K_0 \\cdot E_u \\cdot A_u}{l_{k,i}}$"
      ],
      "text/plain": [
       "<IPython.core.display.Markdown object>"
      ]
     },
     "metadata": {},
     "output_type": "display_data"
    }
   ],
   "source": [
    "# Display the value of x_k using Markdown syntax\n",
    "display(Markdown(\"### First cycle of strand tensioning\"))\n",
    "display(Markdown(rf\" - Length of cable axis prior to tensioning of the i-th strand, $l_k,i = l_k - \\xi_{{k,i-1}}$\"))\n",
    "display(Markdown(rf\" - Strain to force ratio, $\\eta_i = \\dfrac{{K_0 \\cdot E_u \\cdot A_u}}{{l_{{k,i}}}}$\"))\n",
    "\n"
   ]
  }
 ],
 "metadata": {
  "kernelspec": {
   "display_name": "base",
   "language": "python",
   "name": "python3"
  },
  "language_info": {
   "codemirror_mode": {
    "name": "ipython",
    "version": 3
   },
   "file_extension": ".py",
   "mimetype": "text/x-python",
   "name": "python",
   "nbconvert_exporter": "python",
   "pygments_lexer": "ipython3",
   "version": "3.9.12"
  }
 },
 "nbformat": 4,
 "nbformat_minor": 2
}
