{
 "cells": [
  {
   "cell_type": "markdown",
   "metadata": {},
   "source": [
    "## Cable Stay Tensioning Calculation"
   ]
  },
  {
   "cell_type": "code",
   "execution_count": 9,
   "metadata": {},
   "outputs": [],
   "source": [
    "from IPython.display import display, Markdown\n",
    "import matplotlib.pyplot as plt"
   ]
  },
  {
   "cell_type": "code",
   "execution_count": 10,
   "metadata": {},
   "outputs": [
    {
     "data": {
      "text/markdown": [
       "### Cable Data Input"
      ],
      "text/plain": [
       "<IPython.core.display.Markdown object>"
      ]
     },
     "metadata": {},
     "output_type": "display_data"
    },
    {
     "data": {
      "text/markdown": [
       " - Designated jacking force,  $Z_k$ is 563 kN"
      ],
      "text/plain": [
       "<IPython.core.display.Markdown object>"
      ]
     },
     "metadata": {},
     "output_type": "display_data"
    },
    {
     "data": {
      "text/markdown": [
       "- Shortening of cable axis, obtained from bridge design model,  $\\xi_k$ is 17.206 mm."
      ],
      "text/plain": [
       "<IPython.core.display.Markdown object>"
      ]
     },
     "metadata": {},
     "output_type": "display_data"
    },
    {
     "data": {
      "text/markdown": [
       "- Cable shortening to force ratio, $K_0$ is 0.03056127886323268 mm/kN."
      ],
      "text/plain": [
       "<IPython.core.display.Markdown object>"
      ]
     },
     "metadata": {},
     "output_type": "display_data"
    },
    {
     "data": {
      "text/markdown": [
       "- Cable modulus of elasticity, $E_u$ is 195000 MPa."
      ],
      "text/plain": [
       "<IPython.core.display.Markdown object>"
      ]
     },
     "metadata": {},
     "output_type": "display_data"
    },
    {
     "data": {
      "text/markdown": [
       "- Cable section area, $A_u$ is 140 $mm^2$."
      ],
      "text/plain": [
       "<IPython.core.display.Markdown object>"
      ]
     },
     "metadata": {},
     "output_type": "display_data"
    },
    {
     "data": {
      "text/markdown": [
       "- Number of strand , 12 strand."
      ],
      "text/plain": [
       "<IPython.core.display.Markdown object>"
      ]
     },
     "metadata": {},
     "output_type": "display_data"
    }
   ],
   "source": [
    "# Initial data\n",
    "\n",
    "Zk=563  #kN\n",
    "dv=15.9796  #mm\n",
    "theta=36.53 #degree\n",
    "lk = 51300.47 #mm\n",
    "Xik =17.206 #mm\n",
    "KO = Xik/Zk #mm/kN\n",
    "Eu = 195000 #MPa\n",
    "Au = 140 #mm^2\n",
    "nos = 12\n",
    "\n",
    "\n",
    "\n",
    "# Display the value of x_k using Markdown syntax\n",
    "display(Markdown(\"### Cable Data Input\"))\n",
    "display(Markdown(rf\" - Designated jacking force,  $Z_k$ is {Zk} kN\"))\n",
    "display(Markdown(rf\"- Shortening of cable axis, obtained from bridge design model,  $\\xi_k$ is {Xik} mm.\"))\n",
    "display(Markdown(rf\"- Cable shortening to force ratio, $K_0$ is {KO} mm/kN.\"))\n",
    "display(Markdown(rf\"- Cable modulus of elasticity, $E_u$ is {Eu} MPa.\"))\n",
    "display(Markdown(rf\"- Cable section area, $A_u$ is {Au} $mm^2$.\"))\n",
    "display(Markdown(rf\"- Number of strand , {nos} strand.\"))\n"
   ]
  },
  {
   "cell_type": "code",
   "execution_count": 11,
   "metadata": {},
   "outputs": [],
   "source": [
    "def force_drop(strand, strand_jacking_load,current_length,total_shortening, total_force):\n",
    "    current_length=lk-total_shortening\n",
    "    strain_force_ratio=KO*Eu*Au/(current_length*1000)\n",
    "    strand_shortening=KO*strand_jacking_load/(1+(strand-1)*strain_force_ratio)\n",
    "    total_shortening=strand_shortening+total_shortening\n",
    "    total_force=strand_jacking_load/(1+(strand-1)*strain_force_ratio)+total_force\n",
    "\n",
    "    return strain_force_ratio, strand_shortening,total_shortening, current_length, total_force\n",
    "\n",
    "def cycle_load_reading(final_shortening,total_shortening,strand_jacking_load):\n",
    "    strand_partial_shortening=final_shortening-total_shortening\n",
    "    drop_force=strand_partial_shortening*Eu*Au/(lk-total_shortening)/1000\n",
    "    reduced_force=strand_jacking_load-drop_force\n",
    "\n",
    "    return strand_partial_shortening, drop_force, reduced_force\n",
    "\n",
    "def perform_cycle_tension(strand_jacking_loads,current_length,total_shortening,total_force, initial_jacking_loads):\n",
    "\n",
    "    # Initialize lists to compile results\n",
    "\n",
    "    strain_force_ratio_list = []\n",
    "    strand_shortening_list = []\n",
    "    total_shortening_list = []\n",
    "    current_length_list = []\n",
    "    total_force_list = []\n",
    "\n",
    "    #Calculation of accumulated shortening and total force\n",
    "    for strand in range(1,len(strand_jacking_loads)+1):\n",
    "        # Access the jacking load for the current strand index\n",
    "        strand_jacking_load = strand_jacking_loads[strand - 1]\n",
    "    \n",
    "        # Perform force drop calculation for the current strand\n",
    "        strain_force_ratio, strand_shortening, total_shortening, current_length,    total_force = force_drop(\n",
    "            strand, strand_jacking_load, current_length, total_shortening,  total_force\n",
    "        )\n",
    "        \n",
    "        # Append results to lists\n",
    "        strain_force_ratio_list.append(strain_force_ratio)\n",
    "        strand_shortening_list.append(strand_shortening)\n",
    "        total_shortening_list.append(total_shortening)\n",
    "        current_length_list.append(current_length)\n",
    "        total_force_list.append(total_force)\n",
    "    \n",
    "    # print(len(total_shortening_list))\n",
    "    strand_partial_shortening_list = []\n",
    "    drop_force_list = []\n",
    "    reduced_force_list = []\n",
    "\n",
    "    #Colculating Drop Force and Residual Force\n",
    "    for strand in range(1,len(initial_jacking_loads)+1):\n",
    "        #Access the final shortening\n",
    "        final_shortening=total_shortening_list[-1]\n",
    "\n",
    "        #Access the total shortening list and strand jacking load \n",
    "        total_shortening=total_shortening_list[strand- 1]\n",
    "        strand_jacking_load=initial_jacking_loads[strand - 1]\n",
    "\n",
    "        strand_partial_shortening, drop_force, reduced_force = cycle_load_reading(final_shortening,total_shortening,strand_jacking_load) \n",
    "\n",
    "        #append result to List \n",
    "        strand_partial_shortening_list.append(strand_partial_shortening)\n",
    "        drop_force_list.append(drop_force)\n",
    "        reduced_force_list.append(reduced_force)\n",
    "\n",
    "    return drop_force_list, current_length_list, total_shortening_list, total_force_list,reduced_force_list\n",
    "\n",
    "def tensioning_simulation(cycle_number,strand_jacking_loads,current_length,total_shortening,total_force,initial_jacking_loads):\n",
    "\n",
    "    accumulated_load_list=initial_jacking_loads.copy()\n",
    "    table_data=[]\n",
    "   \n",
    "    for i in range(cycle_number):\n",
    "        drop_force_list, current_length_list, total_shortening_list, total_force_list,reduced_force_list=perform_cycle_tension(strand_jacking_loads,current_length,total_shortening,total_force,initial_jacking_loads)\n",
    "\n",
    "        #Extracting previous tension result for the next tensioning cycle\n",
    "        strand_jacking_loads = drop_force_list\n",
    "        current_length=current_length_list[-1]\n",
    "        total_shortening=total_shortening_list[-1]\n",
    "        total_force=total_force_list[-1]\n",
    "\n",
    "        #Upddating accumulated load list\n",
    "        for j in range(len(accumulated_load_list)):\n",
    "            accumulated_load_list[j] += drop_force_list[j]\n",
    "\n",
    "        # Add data to the table\n",
    "        table_data.append([i+1] + reduced_force_list)\n",
    "\n",
    "    return reduced_force_list,drop_force_list,current_length_list, total_shortening_list,accumulated_load_list,table_data\n",
    "\n",
    "\n",
    "\n",
    "    "
   ]
  },
  {
   "cell_type": "markdown",
   "metadata": {},
   "source": [
    "#### Multi Cycle Iteration "
   ]
  },
  {
   "cell_type": "code",
   "execution_count": 12,
   "metadata": {},
   "outputs": [
    {
     "name": "stdout",
     "output_type": "stream",
     "text": [
      "[46.91591387036876, 46.91620225870669, 46.916396430767556, 46.916521009076355, 46.91659598097691, 46.9166372533216, 46.91665714375152, 46.91666481612186, 46.916666666666664, 46.916666666666664, 46.916666666666664, 46.916666666666664]\n",
      "[0.0007527962979022703, 0.00046440795997704665, 0.0002702358991074556, 0.00014565759030928937, 7.068568975508805e-05, 2.9413345057401846e-05, 9.522915145650074e-06, 1.850544804263874e-06, 0.0, 0.0, 0.0, 0.0]\n",
      "[51283.26635828058, 51283.26558341654, 51283.26504167676, 51283.26467692301, 51283.26444290167, 51283.264302066375, 51283.264224535946, 51283.26418717162, 51283.26417275901, 51283.264169282746, 51283.264169282746, 51283.264169282746]\n",
      "[17.204416583462375, 17.204958323241737, 17.20532307699118, 17.205557098325144, 17.205697933629608, 17.20577546405319, 17.205812828381873, 17.205827240989755, 17.205830717252688, 17.205830717252688, 17.205830717252688, 17.205830717252688]\n",
      "[55.17596368342953, 54.307020368825135, 53.46498811331662, 52.648636352338464, 51.856808169658294, 51.08841490826381, 50.342431245544546, 49.617890686871775, 48.91388143678691, 48.22954261148556, 47.56406076021546, 46.916666666666664]\n",
      "[46.916666666666664, 46.916666666666664, 46.916666666666664, 46.916666666666664, 46.916666666666664, 46.916666666666664, 46.916666666666664, 46.916666666666664, 46.916666666666664, 46.916666666666664, 46.916666666666664, 46.916666666666664]\n",
      "100.00%\n"
     ]
    },
    {
     "data": {
      "image/png": "[encoded data removed]",
      "text/plain": [
       "<Figure size 400x300 with 1 Axes>"
      ]
     },
     "metadata": {},
     "output_type": "display_data"
    }
   ],
   "source": [
    "# Calculate strand jacking load\n",
    "strand_tensioning = Zk / nos\n",
    "\n",
    "# Create a list of strand jacking loads\n",
    "initial_jacking_loads = [strand_tensioning] * nos\n",
    "strand_jacking_loads=initial_jacking_loads\n",
    "\n",
    "#initial input\n",
    "current_length=lk\n",
    "total_shortening=0\n",
    "total_force=0\n",
    "cycle_number = 4\n",
    "\n",
    "# drop_force_list, current_length_list, total_shortening_list, total_force_list,reduced_force_list= perform_cycle_tension(strand_jacking_loads,current_length,total_shortening,total_force)\n",
    "\n",
    "# print(current_length_list)\n",
    "# print(drop_force_list)\n",
    "# print(total_shortening_list)\n",
    "# print(total_force_list)\n",
    "# print(reduced_force_list)\n",
    "\n",
    "\n",
    "reduced_force_list,drop_force_list,current_length_list, total_shortening_list,accumulated_load_list,table_data=tensioning_simulation(cycle_number,strand_jacking_loads,current_length,total_shortening,total_force, initial_jacking_loads)\n",
    "\n",
    "print(reduced_force_list)\n",
    "print(drop_force_list)\n",
    "print(current_length_list)\n",
    "print(total_shortening_list)\n",
    "print(accumulated_load_list)\n",
    "print(initial_jacking_loads)\n",
    "\n",
    "# print(table_data)\n",
    "#Calculating Force Distribution Factor \n",
    "gamma_xi=total_shortening_list[-1]/Xik\n",
    "print(f\"{gamma_xi*100:.2f}%\")\n",
    "\n",
    "\n",
    "\n",
    "# #================ TABLE DATA ==================================\n",
    "# # Extracting data\n",
    "# column_labels = ['Strand'] + [f'Cycle {i}' for i in range(1, len(table_data[0]) + 1)]\n",
    "# row_labels = [entry[0] for entry in table_data]\n",
    "# cell_values = [entry[1:] for entry in table_data]\n",
    "\n",
    "# # Create table\n",
    "# plt.figure(figsize=(10, 6))\n",
    "# table = plt.table(cellText=cell_values, rowLabels=row_labels, colLabels=column_labels, loc='center')\n",
    "\n",
    "\n",
    "# # Formatting\n",
    "# table.auto_set_font_size(False)\n",
    "# table.set_fontsize(10)\n",
    "# table.scale(1.5, 1.5)\n",
    "\n",
    "# plt.axis('off')\n",
    "# plt.show()\n",
    "\n",
    "# ================ PLOTTING GRAPH ==============================\n",
    "\n",
    "# Generate x-axis values (strand numbers)\n",
    "strand_numbers = list(range(1, len(reduced_force_list) + 1))\n",
    "\n",
    "# Set the style to a dark theme\n",
    "# plt.style.use('dark_background')\n",
    "plt.style.use('default')\n",
    "\n",
    "# Set the desired figure size\n",
    "plt.figure(figsize=(4, 3))  # Adjust width and height as needed\n",
    "\n",
    "# Create bar chart\n",
    "plt.bar(strand_numbers, reduced_force_list, label='Reduced Force', color='blue', alpha=1)\n",
    "plt.bar(strand_numbers, initial_jacking_loads, label='Strand Jacking Load', color='red', alpha=0.5)\n",
    "\n",
    "# Add labels and title\n",
    "plt.xlabel('Strand Number')\n",
    "plt.ylabel('Force (kN)')\n",
    "plt.title('First Cycle Jacking ')\n",
    "plt.legend(bbox_to_anchor=(1.05, 0.5), loc='center left')\n",
    "\n",
    "# Set tick positions and labels for x-axis\n",
    "plt.xticks(strand_numbers, strand_numbers)\n",
    "\n",
    "# Show plot\n",
    "\n",
    "plt.show()\n"
   ]
  },
  {
   "cell_type": "markdown",
   "metadata": {},
   "source": [
    "### Single Cycle Trial"
   ]
  },
  {
   "cell_type": "code",
   "execution_count": 13,
   "metadata": {},
   "outputs": [
    {
     "name": "stdout",
     "output_type": "stream",
     "text": [
      "[46.91678959406677, 46.91672459329509, 46.916676560570195, 46.91664329747916, 46.916622626053154, 46.9166124280528, 46.916610676225865, 46.916615458807144, 46.916624998339024, 46.916637665729475, 46.91665199032582, 46.916666666666664]\n",
      "[8.259174089362755, 7.390295775530042, 6.5483115527464255, 5.731993054859305, 4.940185543605136, 4.17180248021101, 3.425820569318682, 2.7012752280646297, 1.9972564384478826, 1.3129049457560913, 0.6474087698896414, 0.0]\n",
      "[51300.47, 51298.78375198732, 51297.15062121635, 51295.56813938189, 51294.03398865394, 51292.545990398175, 51291.10209489399, 51289.7003719488, 51288.33900231902, 51287.01626985815, 51285.73055432107, 51284.48032476173]\n",
      "[1.6862480126768888, 3.3193787836488076, 4.901860618113923, 6.436011346067197, 7.924009601825983, 9.367905106010294, 10.76962805120519, 12.130997680980608, 13.45373014185203, 14.73944567893163, 15.98967523827225, 17.205866532099485]\n",
      "[63.43513777279229, 61.69731614435518, 60.01329966606305, 58.380629407197766, 56.79699371326343, 55.260217388474814, 53.76825181486323, 52.319165914936406, 50.91113787523479, 49.54244755724165, 48.211469530105106, 46.916666666666664]\n",
      "[55.17596368342953, 54.307020368825135, 53.46498811331662, 52.648636352338464, 51.856808169658294, 51.08841490826381, 50.342431245544546, 49.617890686871775, 48.91388143678691, 48.22954261148556, 47.56406076021546, 46.916666666666664]\n",
      "100.00%\n"
     ]
    },
    {
     "data": {
      "image/png": "[encoded data removed]",
      "text/plain": [
       "<Figure size 800x600 with 1 Axes>"
      ]
     },
     "metadata": {},
     "output_type": "display_data"
    }
   ],
   "source": [
    "# Calculate strand jacking load\n",
    "strand_tensioning = Zk / nos\n",
    "\n",
    "# Create a list of strand jacking loads\n",
    "initial_jacking_loads = accumulated_load_list\n",
    "strand_jacking_loads=initial_jacking_loads\n",
    "\n",
    "#initial input\n",
    "current_length=lk\n",
    "total_shortening=0\n",
    "total_force=0\n",
    "cycle_number = 1\n",
    "\n",
    "# drop_force_list, current_length_list, total_shortening_list, total_force_list,reduced_force_list= perform_cycle_tension(strand_jacking_loads,current_length,total_shortening,total_force)\n",
    "\n",
    "# print(current_length_list)\n",
    "# print(drop_force_list)\n",
    "# print(total_shortening_list)\n",
    "# print(total_force_list)\n",
    "# print(reduced_force_list)\n",
    "\n",
    "\n",
    "reduced_force_list,drop_force_list,current_length_list, total_shortening_list,accumulated_load_list,table_data=tensioning_simulation(cycle_number,strand_jacking_loads,current_length,total_shortening,total_force, initial_jacking_loads)\n",
    "\n",
    "print(reduced_force_list)\n",
    "print(drop_force_list)\n",
    "print(current_length_list)\n",
    "print(total_shortening_list)\n",
    "print(accumulated_load_list)\n",
    "print(initial_jacking_loads)\n",
    "\n",
    "#Calculating Force Distribution Factor \n",
    "gamma_xi=total_shortening_list[-1]/Xik\n",
    "print(f\"{gamma_xi*100:.2f}%\")\n",
    "\n",
    "# ================ PLOTTING GRAPH ==============================\n",
    "\n",
    "# Generate x-axis values (strand numbers)\n",
    "strand_numbers = list(range(1, len(reduced_force_list) + 1))\n",
    "\n",
    "# Set the style to a dark theme\n",
    "# plt.style.use('dark_background')\n",
    "plt.style.use('default')\n",
    "\n",
    "# Set the desired figure size\n",
    "plt.figure(figsize=(8, 6))  # Adjust width and height as needed\n",
    "\n",
    "# Create bar chart\n",
    "plt.bar(strand_numbers, reduced_force_list, label='Reduced Force', color='blue', alpha=1)\n",
    "plt.bar(strand_numbers, initial_jacking_loads, label='Strand Jacking Load', color='red', alpha=0.5)\n",
    "\n",
    "# Add labels and title\n",
    "plt.xlabel('Strand Number')\n",
    "plt.ylabel('Force (kN)')\n",
    "plt.title('Single Cycle Simulation ')\n",
    "plt.legend(bbox_to_anchor=(1.05, 0.5), loc='center left')\n",
    "\n",
    "# Set tick positions and labels for x-axis\n",
    "plt.xticks(strand_numbers, strand_numbers)\n",
    "\n",
    "# Display values on top of each bar\n",
    "for i in range(len(reduced_force_list)):\n",
    "    plt.text(strand_numbers[i], reduced_force_list[i], f'{reduced_force_list[i]:.2f}', ha='center', va='bottom')\n",
    "\n",
    "for i in range(len(initial_jacking_loads)):\n",
    "    plt.text(strand_numbers[i], initial_jacking_loads[i], f'{initial_jacking_loads[i]:.2f}', ha='center', va='bottom')\n",
    "\n",
    "\n",
    "\n",
    "# Show plot\n",
    "\n",
    "plt.show()\n"
   ]
  },
  {
   "cell_type": "code",
   "execution_count": 14,
   "metadata": {},
   "outputs": [
    {
     "data": {
      "text/markdown": [
       "### First cycle of strand tensioning"
      ],
      "text/plain": [
       "<IPython.core.display.Markdown object>"
      ]
     },
     "metadata": {},
     "output_type": "display_data"
    },
    {
     "data": {
      "text/markdown": [
       " - Length of cable axis prior to tensioning of the i-th strand, $l_k,i = l_k - \\xi_{k,i-1}$"
      ],
      "text/plain": [
       "<IPython.core.display.Markdown object>"
      ]
     },
     "metadata": {},
     "output_type": "display_data"
    },
    {
     "data": {
      "text/markdown": [
       " - Strain to force ratio, $\\eta_i = \\dfrac{K_0 \\cdot E_u \\cdot A_u}{l_{k,i}}$"
      ],
      "text/plain": [
       "<IPython.core.display.Markdown object>"
      ]
     },
     "metadata": {},
     "output_type": "display_data"
    }
   ],
   "source": [
    "# Display the value of x_k using Markdown syntax\n",
    "display(Markdown(\"### First cycle of strand tensioning\"))\n",
    "display(Markdown(rf\" - Length of cable axis prior to tensioning of the i-th strand, $l_k,i = l_k - \\xi_{{k,i-1}}$\"))\n",
    "display(Markdown(rf\" - Strain to force ratio, $\\eta_i = \\dfrac{{K_0 \\cdot E_u \\cdot A_u}}{{l_{{k,i}}}}$\"))\n",
    "\n"
   ]
  }
 ],
 "metadata": {
  "kernelspec": {
   "display_name": "base",
   "language": "python",
   "name": "python3"
  },
  "language_info": {
   "codemirror_mode": {
    "name": "ipython",
    "version": 3
   },
   "file_extension": ".py",
   "mimetype": "text/x-python",
   "name": "python",
   "nbconvert_exporter": "python",
   "pygments_lexer": "ipython3",
   "version": "3.9.12"
  }
 },
 "nbformat": 4,
 "nbformat_minor": 2
}
